{
 "cells": [
  {
   "cell_type": "code",
   "execution_count": 1,
   "metadata": {},
   "outputs": [],
   "source": [
    "import os\n",
    "from pathlib import Path\n",
    "from typing import Final\n",
    "import tensorflow as tf\n",
    "import numpy as np\n",
    "import cv2\n",
    "import utils"
   ]
  },
  {
   "cell_type": "code",
   "execution_count": 2,
   "metadata": {},
   "outputs": [
    {
     "name": "stderr",
     "output_type": "stream",
     "text": [
      "WARNING:absl:At this time, the v2.11+ optimizer `tf.keras.optimizers.RestoredOptimizer` runs slowly on M1/M2 Macs, please use the legacy Keras optimizer instead, located at `tf.keras.optimizers.legacy.RestoredOptimizer`.\n",
      "WARNING:absl:At this time, the v2.11+ optimizer `tf.keras.optimizers.Adam` runs slowly on M1/M2 Macs, please use the legacy Keras optimizer instead, located at `tf.keras.optimizers.legacy.Adam`.\n"
     ]
    }
   ],
   "source": [
    "EPOCHS: Final[int] = 4\n",
    "ACCURACY: Final[int] = 97.53\n",
    "model = tf.keras.models.load_model(os.path.join(\n",
    "    utils.DATA_DIR, \n",
    "    \"models\", \n",
    "    str(EPOCHS), \n",
    "    f\"mnist-{EPOCHS}-{ACCURACY}.model\"\n",
    "))"
   ]
  },
  {
   "cell_type": "code",
   "execution_count": 3,
   "metadata": {},
   "outputs": [],
   "source": [
    "test_images_paths: list[Path] = [\n",
    "    os.path.join(utils.TEST_DIR, f) \n",
    "    for f in os.listdir(utils.TEST_DIR) \n",
    "    if f.endswith(\".png\")\n",
    "]"
   ]
  },
  {
   "cell_type": "code",
   "execution_count": 4,
   "metadata": {},
   "outputs": [
    {
     "name": "stdout",
     "output_type": "stream",
     "text": [
      "1/1 [==============================] - 0s 39ms/step\n",
      "1/1 [==============================] - 0s 11ms/step\n",
      "1/1 [==============================] - 0s 10ms/step\n",
      "1/1 [==============================] - 0s 18ms/step\n",
      "1/1 [==============================] - 0s 10ms/step\n",
      "1/1 [==============================] - 0s 9ms/step\n",
      "1/1 [==============================] - 0s 9ms/step\n",
      "1/1 [==============================] - 0s 10ms/step\n",
      "1/1 [==============================] - 0s 9ms/step\n",
      "1/1 [==============================] - 0s 9ms/step\n"
     ]
    }
   ],
   "source": [
    "utils.log_to_file(f\"Starting testing model with EPOCHS: {EPOCHS} and ACCURACY: {ACCURACY}\")\n",
    "\n",
    "num_faults: int = 0\n",
    "for image_path in test_images_paths:\n",
    "    image: np.ndarray = cv2.imread(image_path, cv2.IMREAD_GRAYSCALE)\n",
    "    image_array: np.ndarray = np.invert(np.array([image]))\n",
    "    predected: np.ndarray = model.predict(image_array)\n",
    "    image_name: str = f\"Predicted: {np.argmax(predected)}\"\n",
    "    # show_image(image, image_name)\n",
    "    utils.log_to_file(f\"predected: {np.argmax(predected)} and it was {image_path.split('/')[-1].split('.')[0]}\")\n",
    "    if np.argmax(predected) != int(image_path.split('/')[-1].split('.')[0]):\n",
    "        num_faults += 1\n",
    "\n",
    "utils.log_to_file(f\"Accuracy: {100 - (num_faults / len(test_images_paths)) * 100}%\")"
   ]
  }
 ],
 "metadata": {
  "language_info": {
   "name": "python"
  }
 },
 "nbformat": 4,
 "nbformat_minor": 2
}
