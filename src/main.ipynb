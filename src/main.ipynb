{
 "cells": [
  {
   "cell_type": "code",
   "execution_count": 1,
   "metadata": {},
   "outputs": [],
   "source": [
    "import os\n",
    "from pathlib import Path\n",
    "from typing import Final\n",
    "import tensorflow as tf\n",
    "import numpy as np\n",
    "import cv2"
   ]
  },
  {
   "cell_type": "code",
   "execution_count": 2,
   "metadata": {},
   "outputs": [],
   "source": [
    "def show_image(image: np.ndarray, title: str) -> None:\n",
    "    cv2.startWindowThread()\n",
    "    cv2.imshow(title, image)\n",
    "    while True:\n",
    "        if cv2.waitKey(1) & 0xFF == ord(\"q\"):\n",
    "            break\n",
    "    cv2.destroyWindow(title)\n",
    "    for _ in range(5):\n",
    "        cv2.waitKey(1)"
   ]
  },
  {
   "cell_type": "code",
   "execution_count": 3,
   "metadata": {},
   "outputs": [],
   "source": [
    "BASE_DIR: Final[Path] = Path().resolve().parent\n",
    "DATA_DIR: Final[Path] = os.path.join(BASE_DIR, \"data\")\n",
    "TEST_DIR: Final[Path] = os.path.join(DATA_DIR, \"test\")"
   ]
  },
  {
   "cell_type": "code",
   "execution_count": 4,
   "metadata": {},
   "outputs": [],
   "source": [
    "EPOCHS: Final[int] = 20\n",
    "ACCURACY: Final[int] = 97.65\n",
    "model = tf.keras.models.load_model(os.path.join(DATA_DIR, \"models\", str(EPOCHS), f\"mnist-{EPOCHS}-{ACCURACY}.model\"))"
   ]
  },
  {
   "cell_type": "code",
   "execution_count": 5,
   "metadata": {},
   "outputs": [],
   "source": [
    "test_images_paths: list[Path] = [\n",
    "    os.path.join(TEST_DIR, f) \n",
    "    for f in os.listdir(TEST_DIR) \n",
    "    if f.endswith(\".png\")\n",
    "]"
   ]
  },
  {
   "cell_type": "code",
   "execution_count": 6,
   "metadata": {},
   "outputs": [
    {
     "name": "stdout",
     "output_type": "stream",
     "text": [
      "1/1 [==============================] - 0s 35ms/step\n",
      "predected: 3 and it was 8\n",
      "1/1 [==============================] - 0s 10ms/step\n",
      "predected: 8 and it was 9\n",
      "1/1 [==============================] - 0s 11ms/step\n",
      "predected: 7 and it was 4\n",
      "1/1 [==============================] - 0s 9ms/step\n",
      "predected: 5 and it was 5\n",
      "1/1 [==============================] - 0s 9ms/step\n",
      "predected: 8 and it was 7\n",
      "1/1 [==============================] - 0s 10ms/step\n",
      "predected: 5 and it was 6\n",
      "1/1 [==============================] - 0s 10ms/step\n",
      "predected: 2 and it was 2\n",
      "1/1 [==============================] - 0s 9ms/step\n",
      "predected: 3 and it was 3\n",
      "1/1 [==============================] - 0s 10ms/step\n",
      "predected: 1 and it was 1\n",
      "1/1 [==============================] - 0s 9ms/step\n",
      "predected: 0 and it was 0\n",
      "Accuracy: 50.0%\n"
     ]
    }
   ],
   "source": [
    "num_faults: int = 0\n",
    "for image_path in test_images_paths:\n",
    "    image: np.ndarray = cv2.imread(image_path, cv2.IMREAD_GRAYSCALE)\n",
    "    image_array: np.ndarray = np.invert(np.array([image]))\n",
    "    predected: np.ndarray = model.predict(image_array)\n",
    "    image_name: str = f\"Predicted: {np.argmax(predected)}\"\n",
    "    # show_image(image, image_name)\n",
    "    print(f\"predected: {np.argmax(predected)} and it was {image_path.split('/')[-1].split('.')[0]}\")\n",
    "    if np.argmax(predected) != int(image_path.split('/')[-1].split('.')[0]):\n",
    "        num_faults += 1\n",
    "\n",
    "print(f\"Accuracy: {100 - (num_faults / len(test_images_paths)) * 100}%\")"
   ]
  }
 ],
 "metadata": {
  "language_info": {
   "name": "python"
  }
 },
 "nbformat": 4,
 "nbformat_minor": 2
}
