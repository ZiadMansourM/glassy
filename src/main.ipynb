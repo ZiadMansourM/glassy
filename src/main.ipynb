{
 "cells": [
  {
   "cell_type": "code",
   "execution_count": null,
   "metadata": {},
   "outputs": [],
   "source": [
    "import os\n",
    "from pathlib import Path\n",
    "from typing import Final\n",
    "import tensorflow as tf\n",
    "import numpy as np\n",
    "import cv2\n",
    "import utils"
   ]
  },
  {
   "cell_type": "code",
   "execution_count": null,
   "metadata": {},
   "outputs": [],
   "source": [
    "EPOCHS: Final[int] = 4\n",
    "ACCURACY: Final[int] = 97.31"
   ]
  },
  {
   "cell_type": "code",
   "execution_count": null,
   "metadata": {},
   "outputs": [],
   "source": [
    "model = tf.keras.models.load_model(os.path.join(\n",
    "    utils.DATA_DIR, \n",
    "    \"models\", \n",
    "    str(EPOCHS), \n",
    "    f\"mnist-{EPOCHS}-{ACCURACY}.model\"\n",
    "))"
   ]
  },
  {
   "cell_type": "code",
   "execution_count": null,
   "metadata": {},
   "outputs": [],
   "source": [
    "test_images_paths: list[Path] = [\n",
    "    os.path.join(utils.TEST_DIR, f) \n",
    "    for f in os.listdir(utils.TEST_DIR) \n",
    "    if f.endswith(\".png\")\n",
    "]"
   ]
  },
  {
   "cell_type": "code",
   "execution_count": null,
   "metadata": {},
   "outputs": [],
   "source": [
    "utils.log_to_file(f\"Starting testing model with EPOCHS: {EPOCHS} and ACCURACY: {ACCURACY}\")\n",
    "\n",
    "num_faults: int = 0\n",
    "for image_path in test_images_paths:\n",
    "    image: np.ndarray = cv2.imread(image_path, cv2.IMREAD_GRAYSCALE)\n",
    "    image_array: np.ndarray = np.invert(np.array([image]))\n",
    "    predected: np.ndarray = model.predict(image_array)\n",
    "    image_name: str = f\"Predicted: {np.argmax(predected)}\"\n",
    "    # show_image(image, image_name)\n",
    "    utils.log_to_file(f\"predected: {np.argmax(predected)} and it was {image_path.split('/')[-1].split('.')[0]}\")\n",
    "    if np.argmax(predected) != int(image_path.split('/')[-1].split('.')[0]):\n",
    "        num_faults += 1\n",
    "\n",
    "utils.log_to_file(f\"Accuracy: {100 - (num_faults / len(test_images_paths)) * 100}%\")\n",
    "utils.log_to_file(f\"Number of faults: {num_faults:,}/{len(test_images_paths):,}\")\n",
    "utils.log_to_file(f\"Number of correct: {(len(test_images_paths) - num_faults):,}/{len(test_images_paths):,}\") "
   ]
  },
  {
   "cell_type": "markdown",
   "metadata": {},
   "source": [
    "#### Confusion Matrix"
   ]
  },
  {
   "cell_type": "code",
   "execution_count": null,
   "metadata": {},
   "outputs": [],
   "source": [
    "test_images_flattened: np.ndarray[np.ndarray] = np.array([\n",
    "    np.invert(np.array([\n",
    "        cv2.imread(image_path, cv2.IMREAD_GRAYSCALE)\n",
    "    ]))\n",
    "    for image_path in test_images_paths\n",
    "])\n",
    "\n",
    "test_images_predected: np.ndarray[np.ndarray] = model.predict(test_images_flattened)\n",
    "\n",
    "test_images_predected_labels: list[int] = [\n",
    "    np.argmax(prediction)\n",
    "    for prediction in test_images_predected\n",
    "]\n",
    "\n",
    "true_labels: list[int] = [\n",
    "    int(image_path.split('/')[-1].split('.')[0])\n",
    "    for image_path in test_images_paths\n",
    "]"
   ]
  },
  {
   "cell_type": "code",
   "execution_count": null,
   "metadata": {},
   "outputs": [],
   "source": [
    "confusion_matrix = tf.math.confusion_matrix(\n",
    "    labels=true_labels, \n",
    "    predictions=test_images_predected_labels\n",
    ")"
   ]
  },
  {
   "cell_type": "code",
   "execution_count": null,
   "metadata": {},
   "outputs": [],
   "source": [
    "import seaborn as sn\n",
    "import pandas as pd\n",
    "import matplotlib.pyplot as plt\n",
    "\n",
    "df_cm = pd.DataFrame(\n",
    "    confusion_matrix.numpy(),\n",
    "    index=list(\"0123456789\"),\n",
    "    columns=list(\"0123456789\"),\n",
    ")\n",
    "\n",
    "plt.figure(figsize=(10,7))\n",
    "sn.heatmap(df_cm, annot=True)\n",
    "Path(os.path.join(\n",
    "    utils.DATA_DIR, \n",
    "    \"confusion-matrices\", \n",
    "    str(EPOCHS), \n",
    "    \"test\"\n",
    ")).mkdir(parents=True, exist_ok=True)\n",
    "\n",
    "confusion_matrix_path: Path = os.path.join(\n",
    "    utils.DATA_DIR, \n",
    "    \"confusion-matrices\", \n",
    "    str(EPOCHS),\n",
    "    \"test\",\n",
    "    f\"mnist-{EPOCHS}-{ACCURACY}.png\"\n",
    ")\n",
    "plt.savefig(confusion_matrix_path)\n",
    "plt.show()\n",
    "\n",
    "utils.log_to_file(f\"Confusion matrix saved to: '{str(confusion_matrix_path)}'\")"
   ]
  }
 ],
 "metadata": {
  "kernelspec": {
   "display_name": ".venv",
   "language": "python",
   "name": "python3"
  },
  "language_info": {
   "codemirror_mode": {
    "name": "ipython",
    "version": 3
   },
   "file_extension": ".py",
   "mimetype": "text/x-python",
   "name": "python",
   "nbconvert_exporter": "python",
   "pygments_lexer": "ipython3",
   "version": "3.11.5"
  }
 },
 "nbformat": 4,
 "nbformat_minor": 2
}
