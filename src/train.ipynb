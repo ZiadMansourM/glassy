{
 "cells": [
  {
   "cell_type": "markdown",
   "metadata": {},
   "source": [
    "#### 🤓 Handwritten Digit Recognition\n",
    "This is a dataset of 60,000 28x28 grayscale images of the 10 digits, along with a test set of 10,000 images. We will use the MNIST dataset to train a model to recognize handwritten digits (0-9)."
   ]
  },
  {
   "cell_type": "code",
   "execution_count": null,
   "metadata": {},
   "outputs": [],
   "source": [
    "import os\n",
    "from pathlib import Path\n",
    "from typing import Final\n",
    "import tensorflow as tf\n",
    "import utils"
   ]
  },
  {
   "cell_type": "markdown",
   "metadata": {},
   "source": [
    "#### Important Magic Numbers / Constants"
   ]
  },
  {
   "cell_type": "code",
   "execution_count": null,
   "metadata": {},
   "outputs": [],
   "source": [
    "EPOCHS: Final[int] = 4"
   ]
  },
  {
   "cell_type": "markdown",
   "metadata": {},
   "source": [
    "#### Implantation"
   ]
  },
  {
   "cell_type": "code",
   "execution_count": null,
   "metadata": {},
   "outputs": [],
   "source": [
    "utils.log_to_file(f\"Started training with EPOCHS={EPOCHS}\")"
   ]
  },
  {
   "cell_type": "code",
   "execution_count": null,
   "metadata": {},
   "outputs": [],
   "source": [
    "\"\"\"minst.load_data()\n",
    "Returns:\n",
    "    - Tuple of NumPy arrays: (x_train, y_train), (x_test, y_test).\n",
    "\n",
    "    - x_train: uint8 NumPy array of grayscale image data with shapes\n",
    "    (60000, 28, 28), containing the training data. Pixel values range from 0 to 255.\n",
    "\n",
    "    - y_train: uint8 NumPy array of digit labels (integers in range 0-9)\n",
    "    with shape (60000,) for the training data.\n",
    "\n",
    "    - x_test: uint8 NumPy array of grayscale image data with shapes\n",
    "    (10000, 28, 28), containing the test data. Pixel values range from 0 to 255.\n",
    "\n",
    "    - y_test: uint8 NumPy array of digit labels (integers in range 0-9)\n",
    "    with shape (10000,) for the test data.\n",
    "\"\"\"\n",
    "\n",
    "minst = tf.keras.datasets.mnist\n",
    "(x_train, y_train), (x_test, y_test) = minst.load_data(path=os.path.join(\n",
    "    utils.DATA_DIR, \n",
    "    \"datasets\", \n",
    "    \"mnist.npz\"\n",
    "))"
   ]
  },
  {
   "cell_type": "code",
   "execution_count": null,
   "metadata": {},
   "outputs": [],
   "source": [
    "assert x_train.shape == (60_000, 28, 28)\n",
    "assert x_train.dtype == \"uint8\"\n",
    "\n",
    "assert x_test.shape == (10_000, 28, 28)\n",
    "assert x_test.dtype == \"uint8\"\n",
    "\n",
    "assert y_train.shape == (60_000,)\n",
    "assert y_train.dtype == \"uint8\"\n",
    "\n",
    "assert y_test.shape == (10_000,)\n",
    "assert y_test.dtype == \"uint8\""
   ]
  },
  {
   "cell_type": "code",
   "execution_count": null,
   "metadata": {},
   "outputs": [],
   "source": [
    "x_train = tf.keras.utils.normalize(x_train, axis=1)\n",
    "x_test = tf.keras.utils.normalize(x_test, axis=1)"
   ]
  },
  {
   "cell_type": "code",
   "execution_count": null,
   "metadata": {},
   "outputs": [],
   "source": [
    "assert x_train.dtype == \"float64\"\n",
    "assert x_test.dtype == \"float64\""
   ]
  },
  {
   "cell_type": "code",
   "execution_count": null,
   "metadata": {},
   "outputs": [],
   "source": [
    "model = tf.keras.models.Sequential()\n",
    "model.add(tf.keras.layers.Flatten(input_shape=(28, 28)))\n",
    "model.add(tf.keras.layers.Dense(units=128, activation=tf.nn.relu))\n",
    "model.add(tf.keras.layers.Dense(units=128, activation=tf.nn.relu))\n",
    "model.add(tf.keras.layers.Dense(units=10, activation=tf.nn.softmax))\n",
    "\n",
    "model.compile(\n",
    "    optimizer=tf.keras.optimizers.Adam(), \n",
    "    loss=tf.keras.losses.SparseCategoricalCrossentropy(), \n",
    "    metrics=['accuracy']\n",
    ")"
   ]
  },
  {
   "cell_type": "code",
   "execution_count": null,
   "metadata": {},
   "outputs": [],
   "source": [
    "model.fit(x_train, y_train, epochs=EPOCHS)"
   ]
  },
  {
   "cell_type": "code",
   "execution_count": null,
   "metadata": {},
   "outputs": [],
   "source": [
    "val_loss, val_acc = model.evaluate(x_test, y_test)\n",
    "utils.log_to_file(f\"Loss: {val_loss:.4f}, Accuracy: {val_acc*100:.2f}%\")"
   ]
  },
  {
   "cell_type": "code",
   "execution_count": null,
   "metadata": {},
   "outputs": [],
   "source": [
    "model.save(os.path.join(\n",
    "    utils.DATA_DIR, \n",
    "    \"models\", \n",
    "    str(EPOCHS), \n",
    "    f\"mnist-{EPOCHS}-{val_acc*100:.2f}.model\"\n",
    "))"
   ]
  }
 ],
 "metadata": {
  "kernelspec": {
   "display_name": ".venv",
   "language": "python",
   "name": "python3"
  },
  "language_info": {
   "codemirror_mode": {
    "name": "ipython",
    "version": 3
   },
   "file_extension": ".py",
   "mimetype": "text/x-python",
   "name": "python",
   "nbconvert_exporter": "python",
   "pygments_lexer": "ipython3",
   "version": "3.11.5"
  }
 },
 "nbformat": 4,
 "nbformat_minor": 2
}
